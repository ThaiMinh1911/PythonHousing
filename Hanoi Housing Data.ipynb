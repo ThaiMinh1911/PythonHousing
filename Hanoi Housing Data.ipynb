{
 "cells": [
  {
   "cell_type": "code",
   "execution_count": 1,
   "id": "3cc16f6c",
   "metadata": {},
   "outputs": [],
   "source": [
    "import pandas as pd\n",
    "import numpy as np\n",
    "import matplotlib.pyplot as plt\n",
    "import seaborn as sns"
   ]
  },
  {
   "cell_type": "code",
   "execution_count": 2,
   "id": "87006c40",
   "metadata": {},
   "outputs": [
    {
     "data": {
      "text/html": [
       "<div>\n",
       "<style scoped>\n",
       "    .dataframe tbody tr th:only-of-type {\n",
       "        vertical-align: middle;\n",
       "    }\n",
       "\n",
       "    .dataframe tbody tr th {\n",
       "        vertical-align: top;\n",
       "    }\n",
       "\n",
       "    .dataframe thead th {\n",
       "        text-align: right;\n",
       "    }\n",
       "</style>\n",
       "<table border=\"1\" class=\"dataframe\">\n",
       "  <thead>\n",
       "    <tr style=\"text-align: right;\">\n",
       "      <th></th>\n",
       "      <th>Ngày</th>\n",
       "      <th>Địa chỉ</th>\n",
       "      <th>Quận</th>\n",
       "      <th>Huyện</th>\n",
       "      <th>Loại hình nhà ở</th>\n",
       "      <th>Giấy tờ pháp lý</th>\n",
       "      <th>Số tầng</th>\n",
       "      <th>Số phòng ngủ</th>\n",
       "      <th>Diện tích</th>\n",
       "      <th>Dài</th>\n",
       "      <th>Rộng</th>\n",
       "      <th>Giá/m2</th>\n",
       "    </tr>\n",
       "  </thead>\n",
       "  <tbody>\n",
       "    <tr>\n",
       "      <th>0.0</th>\n",
       "      <td>2020-08-05</td>\n",
       "      <td>Đường Hoàng Quốc Việt, Phường Nghĩa Đô, Quận C...</td>\n",
       "      <td>Quận Cầu Giấy</td>\n",
       "      <td>Phường Nghĩa Đô</td>\n",
       "      <td>Nhà ngõ, hẻm</td>\n",
       "      <td>Đã có sổ</td>\n",
       "      <td>4</td>\n",
       "      <td>5 phòng</td>\n",
       "      <td>46 m²</td>\n",
       "      <td>NaN</td>\n",
       "      <td>NaN</td>\n",
       "      <td>86,96 triệu/m²</td>\n",
       "    </tr>\n",
       "    <tr>\n",
       "      <th>1.0</th>\n",
       "      <td>2020-08-05</td>\n",
       "      <td>Đường Kim Giang, Phường Kim Giang, Quận Thanh ...</td>\n",
       "      <td>Quận Thanh Xuân</td>\n",
       "      <td>Phường Kim Giang</td>\n",
       "      <td>Nhà mặt phố, mặt tiền</td>\n",
       "      <td>NaN</td>\n",
       "      <td>NaN</td>\n",
       "      <td>3 phòng</td>\n",
       "      <td>37 m²</td>\n",
       "      <td>NaN</td>\n",
       "      <td>NaN</td>\n",
       "      <td>116,22 triệu/m²</td>\n",
       "    </tr>\n",
       "    <tr>\n",
       "      <th>2.0</th>\n",
       "      <td>2020-08-05</td>\n",
       "      <td>phố minh khai, Phường Minh Khai, Quận Hai Bà T...</td>\n",
       "      <td>Quận Hai Bà Trưng</td>\n",
       "      <td>Phường Minh Khai</td>\n",
       "      <td>Nhà ngõ, hẻm</td>\n",
       "      <td>Đã có sổ</td>\n",
       "      <td>4</td>\n",
       "      <td>4 phòng</td>\n",
       "      <td>40 m²</td>\n",
       "      <td>10 m</td>\n",
       "      <td>4 m</td>\n",
       "      <td>65 triệu/m²</td>\n",
       "    </tr>\n",
       "    <tr>\n",
       "      <th>3.0</th>\n",
       "      <td>2020-08-05</td>\n",
       "      <td>Đường Võng Thị, Phường Thụy Khuê, Quận Tây Hồ,...</td>\n",
       "      <td>Quận Tây Hồ</td>\n",
       "      <td>Phường Thụy Khuê</td>\n",
       "      <td>Nhà ngõ, hẻm</td>\n",
       "      <td>Đã có sổ</td>\n",
       "      <td>NaN</td>\n",
       "      <td>6 phòng</td>\n",
       "      <td>51 m²</td>\n",
       "      <td>12.75 m</td>\n",
       "      <td>4 m</td>\n",
       "      <td>100 triệu/m²</td>\n",
       "    </tr>\n",
       "    <tr>\n",
       "      <th>4.0</th>\n",
       "      <td>2020-08-05</td>\n",
       "      <td>Đường Kim Giang, Phường Kim Giang, Quận Thanh ...</td>\n",
       "      <td>Quận Thanh Xuân</td>\n",
       "      <td>Phường Kim Giang</td>\n",
       "      <td>Nhà ngõ, hẻm</td>\n",
       "      <td>NaN</td>\n",
       "      <td>NaN</td>\n",
       "      <td>4 phòng</td>\n",
       "      <td>36 m²</td>\n",
       "      <td>9 m</td>\n",
       "      <td>4 m</td>\n",
       "      <td>86,11 triệu/m²</td>\n",
       "    </tr>\n",
       "  </tbody>\n",
       "</table>\n",
       "</div>"
      ],
      "text/plain": [
       "          Ngày                                            Địa chỉ  \\\n",
       "0.0 2020-08-05  Đường Hoàng Quốc Việt, Phường Nghĩa Đô, Quận C...   \n",
       "1.0 2020-08-05  Đường Kim Giang, Phường Kim Giang, Quận Thanh ...   \n",
       "2.0 2020-08-05  phố minh khai, Phường Minh Khai, Quận Hai Bà T...   \n",
       "3.0 2020-08-05  Đường Võng Thị, Phường Thụy Khuê, Quận Tây Hồ,...   \n",
       "4.0 2020-08-05  Đường Kim Giang, Phường Kim Giang, Quận Thanh ...   \n",
       "\n",
       "                  Quận             Huyện        Loại hình nhà ở  \\\n",
       "0.0      Quận Cầu Giấy   Phường Nghĩa Đô           Nhà ngõ, hẻm   \n",
       "1.0    Quận Thanh Xuân  Phường Kim Giang  Nhà mặt phố, mặt tiền   \n",
       "2.0  Quận Hai Bà Trưng  Phường Minh Khai           Nhà ngõ, hẻm   \n",
       "3.0        Quận Tây Hồ  Phường Thụy Khuê           Nhà ngõ, hẻm   \n",
       "4.0    Quận Thanh Xuân  Phường Kim Giang           Nhà ngõ, hẻm   \n",
       "\n",
       "    Giấy tờ pháp lý Số tầng Số phòng ngủ Diện tích      Dài Rộng  \\\n",
       "0.0        Đã có sổ       4      5 phòng     46 m²      NaN  NaN   \n",
       "1.0             NaN     NaN      3 phòng     37 m²      NaN  NaN   \n",
       "2.0        Đã có sổ       4      4 phòng     40 m²     10 m  4 m   \n",
       "3.0        Đã có sổ     NaN      6 phòng     51 m²  12.75 m  4 m   \n",
       "4.0             NaN     NaN      4 phòng     36 m²      9 m  4 m   \n",
       "\n",
       "              Giá/m2  \n",
       "0.0   86,96 triệu/m²  \n",
       "1.0  116,22 triệu/m²  \n",
       "2.0      65 triệu/m²  \n",
       "3.0     100 triệu/m²  \n",
       "4.0   86,11 triệu/m²  "
      ]
     },
     "execution_count": 2,
     "metadata": {},
     "output_type": "execute_result"
    }
   ],
   "source": [
    "df = pd.read_csv('VN_housing_dataset.csv', index_col=0, parse_dates=['Ngày'])\n",
    "df.head()"
   ]
  },
  {
   "cell_type": "markdown",
   "id": "4e9f5289",
   "metadata": {},
   "source": [
    "Thay đổi tên cột của dữ liệu để dễ dàng sử dụng sau này"
   ]
  },
  {
   "cell_type": "code",
   "execution_count": 3,
   "id": "f237094d",
   "metadata": {},
   "outputs": [
    {
     "data": {
      "text/html": [
       "<div>\n",
       "<style scoped>\n",
       "    .dataframe tbody tr th:only-of-type {\n",
       "        vertical-align: middle;\n",
       "    }\n",
       "\n",
       "    .dataframe tbody tr th {\n",
       "        vertical-align: top;\n",
       "    }\n",
       "\n",
       "    .dataframe thead th {\n",
       "        text-align: right;\n",
       "    }\n",
       "</style>\n",
       "<table border=\"1\" class=\"dataframe\">\n",
       "  <thead>\n",
       "    <tr style=\"text-align: right;\">\n",
       "      <th></th>\n",
       "      <th>Ngay</th>\n",
       "      <th>Dia_chi</th>\n",
       "      <th>Quan</th>\n",
       "      <th>Huyen</th>\n",
       "      <th>Loai_nha</th>\n",
       "      <th>Phap_ly</th>\n",
       "      <th>Tang</th>\n",
       "      <th>PN</th>\n",
       "      <th>DT</th>\n",
       "      <th>Dai</th>\n",
       "      <th>Rong</th>\n",
       "      <th>Gia</th>\n",
       "    </tr>\n",
       "  </thead>\n",
       "  <tbody>\n",
       "    <tr>\n",
       "      <th>0.0</th>\n",
       "      <td>2020-08-05</td>\n",
       "      <td>Đường Hoàng Quốc Việt, Phường Nghĩa Đô, Quận C...</td>\n",
       "      <td>Quận Cầu Giấy</td>\n",
       "      <td>Phường Nghĩa Đô</td>\n",
       "      <td>Nhà ngõ, hẻm</td>\n",
       "      <td>Đã có sổ</td>\n",
       "      <td>4</td>\n",
       "      <td>5 phòng</td>\n",
       "      <td>46 m²</td>\n",
       "      <td>NaN</td>\n",
       "      <td>NaN</td>\n",
       "      <td>86,96 triệu/m²</td>\n",
       "    </tr>\n",
       "    <tr>\n",
       "      <th>1.0</th>\n",
       "      <td>2020-08-05</td>\n",
       "      <td>Đường Kim Giang, Phường Kim Giang, Quận Thanh ...</td>\n",
       "      <td>Quận Thanh Xuân</td>\n",
       "      <td>Phường Kim Giang</td>\n",
       "      <td>Nhà mặt phố, mặt tiền</td>\n",
       "      <td>NaN</td>\n",
       "      <td>NaN</td>\n",
       "      <td>3 phòng</td>\n",
       "      <td>37 m²</td>\n",
       "      <td>NaN</td>\n",
       "      <td>NaN</td>\n",
       "      <td>116,22 triệu/m²</td>\n",
       "    </tr>\n",
       "    <tr>\n",
       "      <th>2.0</th>\n",
       "      <td>2020-08-05</td>\n",
       "      <td>phố minh khai, Phường Minh Khai, Quận Hai Bà T...</td>\n",
       "      <td>Quận Hai Bà Trưng</td>\n",
       "      <td>Phường Minh Khai</td>\n",
       "      <td>Nhà ngõ, hẻm</td>\n",
       "      <td>Đã có sổ</td>\n",
       "      <td>4</td>\n",
       "      <td>4 phòng</td>\n",
       "      <td>40 m²</td>\n",
       "      <td>10 m</td>\n",
       "      <td>4 m</td>\n",
       "      <td>65 triệu/m²</td>\n",
       "    </tr>\n",
       "    <tr>\n",
       "      <th>3.0</th>\n",
       "      <td>2020-08-05</td>\n",
       "      <td>Đường Võng Thị, Phường Thụy Khuê, Quận Tây Hồ,...</td>\n",
       "      <td>Quận Tây Hồ</td>\n",
       "      <td>Phường Thụy Khuê</td>\n",
       "      <td>Nhà ngõ, hẻm</td>\n",
       "      <td>Đã có sổ</td>\n",
       "      <td>NaN</td>\n",
       "      <td>6 phòng</td>\n",
       "      <td>51 m²</td>\n",
       "      <td>12.75 m</td>\n",
       "      <td>4 m</td>\n",
       "      <td>100 triệu/m²</td>\n",
       "    </tr>\n",
       "    <tr>\n",
       "      <th>4.0</th>\n",
       "      <td>2020-08-05</td>\n",
       "      <td>Đường Kim Giang, Phường Kim Giang, Quận Thanh ...</td>\n",
       "      <td>Quận Thanh Xuân</td>\n",
       "      <td>Phường Kim Giang</td>\n",
       "      <td>Nhà ngõ, hẻm</td>\n",
       "      <td>NaN</td>\n",
       "      <td>NaN</td>\n",
       "      <td>4 phòng</td>\n",
       "      <td>36 m²</td>\n",
       "      <td>9 m</td>\n",
       "      <td>4 m</td>\n",
       "      <td>86,11 triệu/m²</td>\n",
       "    </tr>\n",
       "  </tbody>\n",
       "</table>\n",
       "</div>"
      ],
      "text/plain": [
       "          Ngay                                            Dia_chi  \\\n",
       "0.0 2020-08-05  Đường Hoàng Quốc Việt, Phường Nghĩa Đô, Quận C...   \n",
       "1.0 2020-08-05  Đường Kim Giang, Phường Kim Giang, Quận Thanh ...   \n",
       "2.0 2020-08-05  phố minh khai, Phường Minh Khai, Quận Hai Bà T...   \n",
       "3.0 2020-08-05  Đường Võng Thị, Phường Thụy Khuê, Quận Tây Hồ,...   \n",
       "4.0 2020-08-05  Đường Kim Giang, Phường Kim Giang, Quận Thanh ...   \n",
       "\n",
       "                  Quan             Huyen               Loai_nha   Phap_ly  \\\n",
       "0.0      Quận Cầu Giấy   Phường Nghĩa Đô           Nhà ngõ, hẻm  Đã có sổ   \n",
       "1.0    Quận Thanh Xuân  Phường Kim Giang  Nhà mặt phố, mặt tiền       NaN   \n",
       "2.0  Quận Hai Bà Trưng  Phường Minh Khai           Nhà ngõ, hẻm  Đã có sổ   \n",
       "3.0        Quận Tây Hồ  Phường Thụy Khuê           Nhà ngõ, hẻm  Đã có sổ   \n",
       "4.0    Quận Thanh Xuân  Phường Kim Giang           Nhà ngõ, hẻm       NaN   \n",
       "\n",
       "    Tang       PN     DT      Dai Rong              Gia  \n",
       "0.0    4  5 phòng  46 m²      NaN  NaN   86,96 triệu/m²  \n",
       "1.0  NaN  3 phòng  37 m²      NaN  NaN  116,22 triệu/m²  \n",
       "2.0    4  4 phòng  40 m²     10 m  4 m      65 triệu/m²  \n",
       "3.0  NaN  6 phòng  51 m²  12.75 m  4 m     100 triệu/m²  \n",
       "4.0  NaN  4 phòng  36 m²      9 m  4 m   86,11 triệu/m²  "
      ]
     },
     "execution_count": 3,
     "metadata": {},
     "output_type": "execute_result"
    }
   ],
   "source": [
    "df.rename(columns = {'Ngày':'Ngay',\n",
    "           'Địa chỉ':'Dia_chi',\n",
    "           'Quận':'Quan',\n",
    "           'Huyện':'Huyen',\n",
    "           'Loại hình nhà ở':'Loai_nha',\n",
    "           'Giấy tờ pháp lý':'Phap_ly',\n",
    "           'Số tầng':'Tang',\n",
    "           'Số phòng ngủ':'PN',\n",
    "           'Diện tích':'DT',\n",
    "           'Dài':'Dai',\n",
    "           'Rộng':'Rong',\n",
    "           'Giá/m2':'Gia'}, inplace=True)\n",
    "df.head()"
   ]
  },
  {
   "cell_type": "markdown",
   "id": "80185198",
   "metadata": {},
   "source": [
    "Xóa bỏ các dữ liệu bị trùng trong data"
   ]
  },
  {
   "cell_type": "code",
   "execution_count": 5,
   "id": "f7771521",
   "metadata": {},
   "outputs": [],
   "source": [
    "df = df.drop_duplicates()"
   ]
  },
  {
   "cell_type": "code",
   "execution_count": 6,
   "id": "7dd533f6",
   "metadata": {},
   "outputs": [
    {
     "data": {
      "text/plain": [
       "(81682, 12)"
      ]
     },
     "execution_count": 6,
     "metadata": {},
     "output_type": "execute_result"
    }
   ],
   "source": [
    "df.shape"
   ]
  },
  {
   "cell_type": "markdown",
   "id": "e8324a69",
   "metadata": {},
   "source": [
    "Dữ liệu gồm 81682 dòng và 12 cột"
   ]
  },
  {
   "cell_type": "code",
   "execution_count": 7,
   "id": "8fa532aa",
   "metadata": {},
   "outputs": [
    {
     "name": "stdout",
     "output_type": "stream",
     "text": [
      "<class 'pandas.core.frame.DataFrame'>\n",
      "Float64Index: 81682 entries, 0.0 to nan\n",
      "Data columns (total 12 columns):\n",
      " #   Column    Non-Null Count  Dtype         \n",
      "---  ------    --------------  -----         \n",
      " 0   Ngay      81681 non-null  datetime64[ns]\n",
      " 1   Dia_chi   81634 non-null  object        \n",
      " 2   Quan      81680 non-null  object        \n",
      " 3   Huyen     81634 non-null  object        \n",
      " 4   Loai_nha  81650 non-null  object        \n",
      " 5   Phap_ly   53260 non-null  object        \n",
      " 6   Tang      36219 non-null  object        \n",
      " 7   PN        81643 non-null  object        \n",
      " 8   DT        81680 non-null  object        \n",
      " 9   Dai       19748 non-null  object        \n",
      " 10  Rong      35297 non-null  object        \n",
      " 11  Gia       81669 non-null  object        \n",
      "dtypes: datetime64[ns](1), object(11)\n",
      "memory usage: 8.1+ MB\n"
     ]
    }
   ],
   "source": [
    "df.info()"
   ]
  },
  {
   "cell_type": "markdown",
   "id": "2737a377",
   "metadata": {},
   "source": [
    "Các cột Tang, PN, DT, Dai, Rong, Gia hiện đang là dạng dữ liệu object khó để truy vấn và phân tích\n",
    "-> làm sạch và chuyển dữ liệu thành dạng số"
   ]
  },
  {
   "cell_type": "markdown",
   "id": "49a37e66",
   "metadata": {},
   "source": [
    "# Làm sạch dữ liệu"
   ]
  },
  {
   "cell_type": "markdown",
   "id": "acb4b393",
   "metadata": {},
   "source": [
    "## 1. Chuyển dữ liệu cột Tầng, PN, DT, Dài, Rộng "
   ]
  },
  {
   "cell_type": "code",
   "execution_count": 8,
   "id": "7b2fde82",
   "metadata": {},
   "outputs": [
    {
     "data": {
      "text/plain": [
       "5               15689\n",
       "4               12215\n",
       "3                3602\n",
       "6                2107\n",
       "2                1025\n",
       "1                 634\n",
       "7                 596\n",
       "8                 187\n",
       "9                  88\n",
       "10                 36\n",
       "45                  8\n",
       "Nhiều hơn 10        7\n",
       "35                  6\n",
       "50                  2\n",
       "12                  2\n",
       "38                  2\n",
       "30                  1\n",
       "32                  1\n",
       "54                  1\n",
       "52                  1\n",
       "40                  1\n",
       "14                  1\n",
       "65                  1\n",
       "55                  1\n",
       "73                  1\n",
       "25                  1\n",
       "42                  1\n",
       "33                  1\n",
       "29                  1\n",
       "Name: Tang, dtype: int64"
      ]
     },
     "execution_count": 8,
     "metadata": {},
     "output_type": "execute_result"
    }
   ],
   "source": [
    "df.Tang.value_counts()"
   ]
  },
  {
   "cell_type": "markdown",
   "id": "d84e71ba",
   "metadata": {},
   "source": [
    "Cột 'Tầng' có dữ liễu nhiều hơn 10 khiến cho dữ liệu cột hiện đang chưa ở dạng số. Đổi nhiều hơn 10 thành 11"
   ]
  },
  {
   "cell_type": "code",
   "execution_count": 9,
   "id": "f8377466",
   "metadata": {},
   "outputs": [
    {
     "data": {
      "text/plain": [
       "0.0    4.0\n",
       "1.0    NaN\n",
       "2.0    4.0\n",
       "3.0    NaN\n",
       "4.0    NaN\n",
       "Name: Tang, dtype: float64"
      ]
     },
     "execution_count": 9,
     "metadata": {},
     "output_type": "execute_result"
    }
   ],
   "source": [
    "df['Tang'][df['Tang'] == 'Nhiều hơn 10'] = 11\n",
    "df['Tang'] = pd.to_numeric(df['Tang'])\n",
    "df.Tang.head()"
   ]
  },
  {
   "cell_type": "code",
   "execution_count": 10,
   "id": "a0d2af49",
   "metadata": {},
   "outputs": [
    {
     "data": {
      "text/plain": [
       "40 m²        6562\n",
       "35 m²        6405\n",
       "30 m²        5445\n",
       "50 m²        4674\n",
       "45 m²        4528\n",
       "             ... \n",
       "111411 m²       1\n",
       "4.2 m²          1\n",
       "489 m²          1\n",
       "224 m²          1\n",
       "1260 m²         1\n",
       "Name: DT, Length: 504, dtype: int64"
      ]
     },
     "execution_count": 10,
     "metadata": {},
     "output_type": "execute_result"
    }
   ],
   "source": [
    "df['DT'].value_counts()"
   ]
  },
  {
   "cell_type": "markdown",
   "id": "8d36733c",
   "metadata": {},
   "source": [
    "Cột DT hiện đang có dấu m2 khiến cho dữ liệu bị chuyển thành dạng chữ -> loại bỏ hậu tố m2 và chuyển thành dạng số"
   ]
  },
  {
   "cell_type": "code",
   "execution_count": 11,
   "id": "c15bb9b6",
   "metadata": {},
   "outputs": [],
   "source": [
    "df['DT'] = df['DT'].str.split().str[0]\n",
    "df['DT'] = pd.to_numeric(df['DT'])"
   ]
  },
  {
   "cell_type": "markdown",
   "id": "9d0ad690",
   "metadata": {},
   "source": [
    "Làm tương tự với cột chiều dài và chiều rộng"
   ]
  },
  {
   "cell_type": "code",
   "execution_count": 12,
   "id": "35547fe0",
   "metadata": {},
   "outputs": [
    {
     "name": "stdout",
     "output_type": "stream",
     "text": [
      "<class 'pandas.core.frame.DataFrame'>\n",
      "Float64Index: 81682 entries, 0.0 to nan\n",
      "Data columns (total 12 columns):\n",
      " #   Column    Non-Null Count  Dtype         \n",
      "---  ------    --------------  -----         \n",
      " 0   Ngay      81681 non-null  datetime64[ns]\n",
      " 1   Dia_chi   81634 non-null  object        \n",
      " 2   Quan      81680 non-null  object        \n",
      " 3   Huyen     81634 non-null  object        \n",
      " 4   Loai_nha  81650 non-null  object        \n",
      " 5   Phap_ly   53260 non-null  object        \n",
      " 6   Tang      36219 non-null  float64       \n",
      " 7   PN        81643 non-null  object        \n",
      " 8   DT        81680 non-null  float64       \n",
      " 9   Dai       19748 non-null  float64       \n",
      " 10  Rong      35297 non-null  float64       \n",
      " 11  Gia       81669 non-null  object        \n",
      "dtypes: datetime64[ns](1), float64(4), object(7)\n",
      "memory usage: 8.1+ MB\n"
     ]
    }
   ],
   "source": [
    "df['Dai'] = df['Dai'].str.split().str[0]\n",
    "df['Dai'] = pd.to_numeric(df['Dai'])\n",
    "df['Rong'] = df['Rong'].str.split().str[0]\n",
    "df['Rong'] = pd.to_numeric(df['Rong'])\n",
    "df.info()"
   ]
  },
  {
   "cell_type": "code",
   "execution_count": 13,
   "id": "aa3ee2ff",
   "metadata": {},
   "outputs": [
    {
     "data": {
      "text/plain": [
       "4 phòng               28797\n",
       "3 phòng               26836\n",
       "5 phòng                7845\n",
       "2 phòng                7271\n",
       "6 phòng                6415\n",
       "1 phòng                1384\n",
       "8 phòng                 933\n",
       "nhiều hơn 10 phòng      865\n",
       "7 phòng                 671\n",
       "10 phòng                352\n",
       "9 phòng                 274\n",
       "Name: PN, dtype: int64"
      ]
     },
     "execution_count": 13,
     "metadata": {},
     "output_type": "execute_result"
    }
   ],
   "source": [
    "df['PN'].value_counts()"
   ]
  },
  {
   "cell_type": "markdown",
   "id": "c8c4847c",
   "metadata": {},
   "source": [
    "Cột PN hiện đang có dữ liệu nhiều hơn 10 phòng -> chuyển thành 11 phòng và làm sạch dữ liệu tương tự cột DT"
   ]
  },
  {
   "cell_type": "code",
   "execution_count": 14,
   "id": "dafc1cc5",
   "metadata": {},
   "outputs": [
    {
     "name": "stderr",
     "output_type": "stream",
     "text": [
      "C:\\Users\\Acer\\AppData\\Local\\Temp/ipykernel_1280/1293663014.py:1: SettingWithCopyWarning: \n",
      "A value is trying to be set on a copy of a slice from a DataFrame\n",
      "\n",
      "See the caveats in the documentation: https://pandas.pydata.org/pandas-docs/stable/user_guide/indexing.html#returning-a-view-versus-a-copy\n",
      "  df['PN'][df['PN'] == 'nhiều hơn 10 phòng'] = '11 phòng'\n"
     ]
    },
    {
     "data": {
      "text/plain": [
       "0.0    5.0\n",
       "1.0    3.0\n",
       "2.0    4.0\n",
       "3.0    6.0\n",
       "4.0    4.0\n",
       "Name: PN, dtype: float64"
      ]
     },
     "execution_count": 14,
     "metadata": {},
     "output_type": "execute_result"
    }
   ],
   "source": [
    "df['PN'][df['PN'] == 'nhiều hơn 10 phòng'] = '11 phòng'\n",
    "df['PN'] = df['PN'].str.split().str[0]\n",
    "df['PN'] = pd.to_numeric(df['PN'])\n",
    "df.PN.head()"
   ]
  },
  {
   "cell_type": "markdown",
   "id": "61a0aa97",
   "metadata": {},
   "source": [
    "## 2. Làm sạch dữ liệu cột giá"
   ]
  },
  {
   "cell_type": "markdown",
   "id": "9ae98e2e",
   "metadata": {},
   "source": [
    "Giá hiện tại đang có phần số và phần đơn vị -> tách làm 2 cột"
   ]
  },
  {
   "cell_type": "code",
   "execution_count": 15,
   "id": "ac59aee5",
   "metadata": {},
   "outputs": [],
   "source": [
    "df['Gia_so'] = df['Gia'].str.split(' ').str[0]"
   ]
  },
  {
   "cell_type": "code",
   "execution_count": 16,
   "id": "5e751b2d",
   "metadata": {},
   "outputs": [],
   "source": [
    "df['Gia_don_vi'] = df['Gia'].str.split(' ').str[1]"
   ]
  },
  {
   "cell_type": "code",
   "execution_count": 17,
   "id": "718ad0fc",
   "metadata": {},
   "outputs": [
    {
     "data": {
      "text/plain": [
       "0.0         86,96\n",
       "1.0        116,22\n",
       "2.0            65\n",
       "3.0           100\n",
       "4.0         86,11\n",
       "            ...  \n",
       "82492.0       292\n",
       "82493.0    341,46\n",
       "82494.0    101,67\n",
       "82495.0    102,22\n",
       "NaN           NaN\n",
       "Name: Gia_so, Length: 81682, dtype: object"
      ]
     },
     "execution_count": 17,
     "metadata": {},
     "output_type": "execute_result"
    }
   ],
   "source": [
    "df['Gia_so']"
   ]
  },
  {
   "cell_type": "markdown",
   "id": "3d5ee3e9",
   "metadata": {},
   "source": [
    "Phần số hiện đang được phân cách bởi dấu phẩy -> chuyển thành dấu chấm để có thể chuyển về dạng số tính toán"
   ]
  },
  {
   "cell_type": "code",
   "execution_count": 19,
   "id": "8df95e7e",
   "metadata": {},
   "outputs": [],
   "source": [
    "df['Gia_so_tinh'] = df['Gia_so'].str.replace(',','.')"
   ]
  },
  {
   "cell_type": "code",
   "execution_count": 21,
   "id": "cbd8ed8a",
   "metadata": {},
   "outputs": [
    {
     "ename": "ValueError",
     "evalue": "Unable to parse string \"2.222.22220022\" at position 51828",
     "output_type": "error",
     "traceback": [
      "\u001b[1;31m---------------------------------------------------------------------------\u001b[0m",
      "\u001b[1;31mValueError\u001b[0m                                Traceback (most recent call last)",
      "\u001b[1;32m~\\anaconda3\\lib\\site-packages\\pandas\\_libs\\lib.pyx\u001b[0m in \u001b[0;36mpandas._libs.lib.maybe_convert_numeric\u001b[1;34m()\u001b[0m\n",
      "\u001b[1;31mValueError\u001b[0m: Unable to parse string \"2.222.22220022\"",
      "\nDuring handling of the above exception, another exception occurred:\n",
      "\u001b[1;31mValueError\u001b[0m                                Traceback (most recent call last)",
      "\u001b[1;32m~\\AppData\\Local\\Temp/ipykernel_1280/2744241864.py\u001b[0m in \u001b[0;36m<module>\u001b[1;34m\u001b[0m\n\u001b[1;32m----> 1\u001b[1;33m \u001b[0mdf\u001b[0m\u001b[1;33m[\u001b[0m\u001b[1;34m'Gia_so_tinh'\u001b[0m\u001b[1;33m]\u001b[0m \u001b[1;33m=\u001b[0m \u001b[0mpd\u001b[0m\u001b[1;33m.\u001b[0m\u001b[0mto_numeric\u001b[0m\u001b[1;33m(\u001b[0m\u001b[0mdf\u001b[0m\u001b[1;33m[\u001b[0m\u001b[1;34m'Gia_so_tinh'\u001b[0m\u001b[1;33m]\u001b[0m\u001b[1;33m)\u001b[0m\u001b[1;33m\u001b[0m\u001b[1;33m\u001b[0m\u001b[0m\n\u001b[0m",
      "\u001b[1;32m~\\anaconda3\\lib\\site-packages\\pandas\\core\\tools\\numeric.py\u001b[0m in \u001b[0;36mto_numeric\u001b[1;34m(arg, errors, downcast)\u001b[0m\n\u001b[0;32m    181\u001b[0m         \u001b[0mcoerce_numeric\u001b[0m \u001b[1;33m=\u001b[0m \u001b[0merrors\u001b[0m \u001b[1;32mnot\u001b[0m \u001b[1;32min\u001b[0m \u001b[1;33m(\u001b[0m\u001b[1;34m\"ignore\"\u001b[0m\u001b[1;33m,\u001b[0m \u001b[1;34m\"raise\"\u001b[0m\u001b[1;33m)\u001b[0m\u001b[1;33m\u001b[0m\u001b[1;33m\u001b[0m\u001b[0m\n\u001b[0;32m    182\u001b[0m         \u001b[1;32mtry\u001b[0m\u001b[1;33m:\u001b[0m\u001b[1;33m\u001b[0m\u001b[1;33m\u001b[0m\u001b[0m\n\u001b[1;32m--> 183\u001b[1;33m             values, _ = lib.maybe_convert_numeric(\n\u001b[0m\u001b[0;32m    184\u001b[0m                 \u001b[0mvalues\u001b[0m\u001b[1;33m,\u001b[0m \u001b[0mset\u001b[0m\u001b[1;33m(\u001b[0m\u001b[1;33m)\u001b[0m\u001b[1;33m,\u001b[0m \u001b[0mcoerce_numeric\u001b[0m\u001b[1;33m=\u001b[0m\u001b[0mcoerce_numeric\u001b[0m\u001b[1;33m\u001b[0m\u001b[1;33m\u001b[0m\u001b[0m\n\u001b[0;32m    185\u001b[0m             )\n",
      "\u001b[1;32m~\\anaconda3\\lib\\site-packages\\pandas\\_libs\\lib.pyx\u001b[0m in \u001b[0;36mpandas._libs.lib.maybe_convert_numeric\u001b[1;34m()\u001b[0m\n",
      "\u001b[1;31mValueError\u001b[0m: Unable to parse string \"2.222.22220022\" at position 51828"
     ]
    }
   ],
   "source": [
    "df['Gia_so_tinh'] = pd.to_numeric(df['Gia_so_tinh'])"
   ]
  },
  {
   "cell_type": "markdown",
   "id": "3fb8a0a5",
   "metadata": {},
   "source": [
    "Phát hiện 1 string không thể chuyển thành dạng số"
   ]
  },
  {
   "cell_type": "code",
   "execution_count": 30,
   "id": "87b31e04",
   "metadata": {},
   "outputs": [],
   "source": [
    "df.drop(df[df['Gia_so_tinh'] == '2.222.22220022'].index,inplace=True)"
   ]
  },
  {
   "cell_type": "code",
   "execution_count": 31,
   "id": "b461078d",
   "metadata": {},
   "outputs": [
    {
     "ename": "ValueError",
     "evalue": "Unable to parse string \"728.000.00728\" at position 55133",
     "output_type": "error",
     "traceback": [
      "\u001b[1;31m---------------------------------------------------------------------------\u001b[0m",
      "\u001b[1;31mValueError\u001b[0m                                Traceback (most recent call last)",
      "\u001b[1;32m~\\anaconda3\\lib\\site-packages\\pandas\\_libs\\lib.pyx\u001b[0m in \u001b[0;36mpandas._libs.lib.maybe_convert_numeric\u001b[1;34m()\u001b[0m\n",
      "\u001b[1;31mValueError\u001b[0m: Unable to parse string \"728.000.00728\"",
      "\nDuring handling of the above exception, another exception occurred:\n",
      "\u001b[1;31mValueError\u001b[0m                                Traceback (most recent call last)",
      "\u001b[1;32m~\\AppData\\Local\\Temp/ipykernel_1280/2744241864.py\u001b[0m in \u001b[0;36m<module>\u001b[1;34m\u001b[0m\n\u001b[1;32m----> 1\u001b[1;33m \u001b[0mdf\u001b[0m\u001b[1;33m[\u001b[0m\u001b[1;34m'Gia_so_tinh'\u001b[0m\u001b[1;33m]\u001b[0m \u001b[1;33m=\u001b[0m \u001b[0mpd\u001b[0m\u001b[1;33m.\u001b[0m\u001b[0mto_numeric\u001b[0m\u001b[1;33m(\u001b[0m\u001b[0mdf\u001b[0m\u001b[1;33m[\u001b[0m\u001b[1;34m'Gia_so_tinh'\u001b[0m\u001b[1;33m]\u001b[0m\u001b[1;33m)\u001b[0m\u001b[1;33m\u001b[0m\u001b[1;33m\u001b[0m\u001b[0m\n\u001b[0m",
      "\u001b[1;32m~\\anaconda3\\lib\\site-packages\\pandas\\core\\tools\\numeric.py\u001b[0m in \u001b[0;36mto_numeric\u001b[1;34m(arg, errors, downcast)\u001b[0m\n\u001b[0;32m    181\u001b[0m         \u001b[0mcoerce_numeric\u001b[0m \u001b[1;33m=\u001b[0m \u001b[0merrors\u001b[0m \u001b[1;32mnot\u001b[0m \u001b[1;32min\u001b[0m \u001b[1;33m(\u001b[0m\u001b[1;34m\"ignore\"\u001b[0m\u001b[1;33m,\u001b[0m \u001b[1;34m\"raise\"\u001b[0m\u001b[1;33m)\u001b[0m\u001b[1;33m\u001b[0m\u001b[1;33m\u001b[0m\u001b[0m\n\u001b[0;32m    182\u001b[0m         \u001b[1;32mtry\u001b[0m\u001b[1;33m:\u001b[0m\u001b[1;33m\u001b[0m\u001b[1;33m\u001b[0m\u001b[0m\n\u001b[1;32m--> 183\u001b[1;33m             values, _ = lib.maybe_convert_numeric(\n\u001b[0m\u001b[0;32m    184\u001b[0m                 \u001b[0mvalues\u001b[0m\u001b[1;33m,\u001b[0m \u001b[0mset\u001b[0m\u001b[1;33m(\u001b[0m\u001b[1;33m)\u001b[0m\u001b[1;33m,\u001b[0m \u001b[0mcoerce_numeric\u001b[0m\u001b[1;33m=\u001b[0m\u001b[0mcoerce_numeric\u001b[0m\u001b[1;33m\u001b[0m\u001b[1;33m\u001b[0m\u001b[0m\n\u001b[0;32m    185\u001b[0m             )\n",
      "\u001b[1;32m~\\anaconda3\\lib\\site-packages\\pandas\\_libs\\lib.pyx\u001b[0m in \u001b[0;36mpandas._libs.lib.maybe_convert_numeric\u001b[1;34m()\u001b[0m\n",
      "\u001b[1;31mValueError\u001b[0m: Unable to parse string \"728.000.00728\" at position 55133"
     ]
    }
   ],
   "source": [
    "df['Gia_so_tinh'] = pd.to_numeric(df['Gia_so_tinh'])"
   ]
  },
  {
   "cell_type": "code",
   "execution_count": 32,
   "id": "b511bacf",
   "metadata": {},
   "outputs": [],
   "source": [
    "df.drop(df[df['Gia_so_tinh'] == '728.000.00728'].index,inplace=True)"
   ]
  },
  {
   "cell_type": "code",
   "execution_count": 33,
   "id": "7e87a243",
   "metadata": {},
   "outputs": [
    {
     "ename": "ValueError",
     "evalue": "Unable to parse string \"69.736.842105263\" at position 57459",
     "output_type": "error",
     "traceback": [
      "\u001b[1;31m---------------------------------------------------------------------------\u001b[0m",
      "\u001b[1;31mValueError\u001b[0m                                Traceback (most recent call last)",
      "\u001b[1;32m~\\anaconda3\\lib\\site-packages\\pandas\\_libs\\lib.pyx\u001b[0m in \u001b[0;36mpandas._libs.lib.maybe_convert_numeric\u001b[1;34m()\u001b[0m\n",
      "\u001b[1;31mValueError\u001b[0m: Unable to parse string \"69.736.842105263\"",
      "\nDuring handling of the above exception, another exception occurred:\n",
      "\u001b[1;31mValueError\u001b[0m                                Traceback (most recent call last)",
      "\u001b[1;32m~\\AppData\\Local\\Temp/ipykernel_1280/2744241864.py\u001b[0m in \u001b[0;36m<module>\u001b[1;34m\u001b[0m\n\u001b[1;32m----> 1\u001b[1;33m \u001b[0mdf\u001b[0m\u001b[1;33m[\u001b[0m\u001b[1;34m'Gia_so_tinh'\u001b[0m\u001b[1;33m]\u001b[0m \u001b[1;33m=\u001b[0m \u001b[0mpd\u001b[0m\u001b[1;33m.\u001b[0m\u001b[0mto_numeric\u001b[0m\u001b[1;33m(\u001b[0m\u001b[0mdf\u001b[0m\u001b[1;33m[\u001b[0m\u001b[1;34m'Gia_so_tinh'\u001b[0m\u001b[1;33m]\u001b[0m\u001b[1;33m)\u001b[0m\u001b[1;33m\u001b[0m\u001b[1;33m\u001b[0m\u001b[0m\n\u001b[0m",
      "\u001b[1;32m~\\anaconda3\\lib\\site-packages\\pandas\\core\\tools\\numeric.py\u001b[0m in \u001b[0;36mto_numeric\u001b[1;34m(arg, errors, downcast)\u001b[0m\n\u001b[0;32m    181\u001b[0m         \u001b[0mcoerce_numeric\u001b[0m \u001b[1;33m=\u001b[0m \u001b[0merrors\u001b[0m \u001b[1;32mnot\u001b[0m \u001b[1;32min\u001b[0m \u001b[1;33m(\u001b[0m\u001b[1;34m\"ignore\"\u001b[0m\u001b[1;33m,\u001b[0m \u001b[1;34m\"raise\"\u001b[0m\u001b[1;33m)\u001b[0m\u001b[1;33m\u001b[0m\u001b[1;33m\u001b[0m\u001b[0m\n\u001b[0;32m    182\u001b[0m         \u001b[1;32mtry\u001b[0m\u001b[1;33m:\u001b[0m\u001b[1;33m\u001b[0m\u001b[1;33m\u001b[0m\u001b[0m\n\u001b[1;32m--> 183\u001b[1;33m             values, _ = lib.maybe_convert_numeric(\n\u001b[0m\u001b[0;32m    184\u001b[0m                 \u001b[0mvalues\u001b[0m\u001b[1;33m,\u001b[0m \u001b[0mset\u001b[0m\u001b[1;33m(\u001b[0m\u001b[1;33m)\u001b[0m\u001b[1;33m,\u001b[0m \u001b[0mcoerce_numeric\u001b[0m\u001b[1;33m=\u001b[0m\u001b[0mcoerce_numeric\u001b[0m\u001b[1;33m\u001b[0m\u001b[1;33m\u001b[0m\u001b[0m\n\u001b[0;32m    185\u001b[0m             )\n",
      "\u001b[1;32m~\\anaconda3\\lib\\site-packages\\pandas\\_libs\\lib.pyx\u001b[0m in \u001b[0;36mpandas._libs.lib.maybe_convert_numeric\u001b[1;34m()\u001b[0m\n",
      "\u001b[1;31mValueError\u001b[0m: Unable to parse string \"69.736.842105263\" at position 57459"
     ]
    }
   ],
   "source": [
    "df['Gia_so_tinh'] = pd.to_numeric(df['Gia_so_tinh'])"
   ]
  },
  {
   "cell_type": "code",
   "execution_count": 34,
   "id": "220cfbc2",
   "metadata": {},
   "outputs": [],
   "source": [
    "df.drop(df[df['Gia_so_tinh'] == '69.736.842105263'].index,inplace=True)"
   ]
  },
  {
   "cell_type": "code",
   "execution_count": 35,
   "id": "14bf2ddd",
   "metadata": {},
   "outputs": [],
   "source": [
    "df['Gia_so_tinh'] = pd.to_numeric(df['Gia_so_tinh'])"
   ]
  },
  {
   "cell_type": "markdown",
   "id": "11c38b8d",
   "metadata": {},
   "source": [
    "Đã hoàn thành clean phần số của giá."
   ]
  },
  {
   "cell_type": "code",
   "execution_count": 36,
   "id": "19ee6de5",
   "metadata": {},
   "outputs": [
    {
     "data": {
      "text/plain": [
       "triệu/m²    80813\n",
       "đ/m²          738\n",
       "tỷ/m²         115\n",
       "Name: Gia_don_vi, dtype: int64"
      ]
     },
     "execution_count": 36,
     "metadata": {},
     "output_type": "execute_result"
    }
   ],
   "source": [
    "df['Gia_don_vi'].value_counts()"
   ]
  },
  {
   "cell_type": "markdown",
   "id": "924effc1",
   "metadata": {},
   "source": [
    "Hiện đang có 3 đơn vị tính. \n",
    "* Với triệu/m2 và đ/m2: Lấy giá số đã clean * 10^6\n",
    "* Với tỷ/m2: Lấy giá số đã clean * 10^9"
   ]
  },
  {
   "cell_type": "code",
   "execution_count": 37,
   "id": "c10f9ea9",
   "metadata": {},
   "outputs": [],
   "source": [
    "def Gia_moi(row):\n",
    "    if row['Gia_don_vi'] == 'triệu/m²' or row['Gia_don_vi'] == 'đ/m²':\n",
    "        val = row['Gia_so_tinh'] * 10**6\n",
    "    else:\n",
    "        val = row['Gia_so_tinh'] * 10**9\n",
    "    return val\n",
    "\n",
    "df['Gia_clean'] = df.apply(Gia_moi, axis=1)"
   ]
  },
  {
   "cell_type": "code",
   "execution_count": 38,
   "id": "456bb3e4",
   "metadata": {},
   "outputs": [
    {
     "data": {
      "text/plain": [
       "0.0         86960000.0\n",
       "1.0        116220000.0\n",
       "2.0         65000000.0\n",
       "3.0        100000000.0\n",
       "4.0         86110000.0\n",
       "              ...     \n",
       "82492.0    292000000.0\n",
       "82493.0    341460000.0\n",
       "82494.0    101670000.0\n",
       "82495.0    102220000.0\n",
       "NaN                NaN\n",
       "Name: Gia_clean, Length: 81679, dtype: float64"
      ]
     },
     "execution_count": 38,
     "metadata": {},
     "output_type": "execute_result"
    }
   ],
   "source": [
    "df['Gia_clean']"
   ]
  },
  {
   "cell_type": "markdown",
   "id": "0301da12",
   "metadata": {},
   "source": [
    "Loại bỏ các cột thừa phục vụ mục đích tính toán"
   ]
  },
  {
   "cell_type": "code",
   "execution_count": 39,
   "id": "79ef32c5",
   "metadata": {},
   "outputs": [
    {
     "data": {
      "text/plain": [
       "Index(['Ngay', 'Dia_chi', 'Quan', 'Huyen', 'Loai_nha', 'Phap_ly', 'Tang', 'PN',\n",
       "       'DT', 'Dai', 'Rong', 'Gia', 'Gia_so', 'Gia_don_vi', 'Gia_so_tinh',\n",
       "       'Gia_clean'],\n",
       "      dtype='object')"
      ]
     },
     "execution_count": 39,
     "metadata": {},
     "output_type": "execute_result"
    }
   ],
   "source": [
    "df.columns"
   ]
  },
  {
   "cell_type": "code",
   "execution_count": 42,
   "id": "29f0d2fc",
   "metadata": {},
   "outputs": [],
   "source": [
    "cols = ['Gia', 'Gia_so', 'Gia_don_vi', 'Gia_so_tinh']"
   ]
  },
  {
   "cell_type": "code",
   "execution_count": 44,
   "id": "80a9c24f",
   "metadata": {},
   "outputs": [],
   "source": [
    "df.drop(columns=cols, axis=1, inplace=True)"
   ]
  },
  {
   "cell_type": "code",
   "execution_count": 45,
   "id": "20657279",
   "metadata": {},
   "outputs": [
    {
     "data": {
      "text/html": [
       "<div>\n",
       "<style scoped>\n",
       "    .dataframe tbody tr th:only-of-type {\n",
       "        vertical-align: middle;\n",
       "    }\n",
       "\n",
       "    .dataframe tbody tr th {\n",
       "        vertical-align: top;\n",
       "    }\n",
       "\n",
       "    .dataframe thead th {\n",
       "        text-align: right;\n",
       "    }\n",
       "</style>\n",
       "<table border=\"1\" class=\"dataframe\">\n",
       "  <thead>\n",
       "    <tr style=\"text-align: right;\">\n",
       "      <th></th>\n",
       "      <th>Ngay</th>\n",
       "      <th>Dia_chi</th>\n",
       "      <th>Quan</th>\n",
       "      <th>Huyen</th>\n",
       "      <th>Loai_nha</th>\n",
       "      <th>Phap_ly</th>\n",
       "      <th>Tang</th>\n",
       "      <th>PN</th>\n",
       "      <th>DT</th>\n",
       "      <th>Dai</th>\n",
       "      <th>Rong</th>\n",
       "      <th>Gia_clean</th>\n",
       "    </tr>\n",
       "  </thead>\n",
       "  <tbody>\n",
       "    <tr>\n",
       "      <th>0.0</th>\n",
       "      <td>2020-08-05</td>\n",
       "      <td>Đường Hoàng Quốc Việt, Phường Nghĩa Đô, Quận C...</td>\n",
       "      <td>Quận Cầu Giấy</td>\n",
       "      <td>Phường Nghĩa Đô</td>\n",
       "      <td>Nhà ngõ, hẻm</td>\n",
       "      <td>Đã có sổ</td>\n",
       "      <td>4.0</td>\n",
       "      <td>5.0</td>\n",
       "      <td>46.0</td>\n",
       "      <td>NaN</td>\n",
       "      <td>NaN</td>\n",
       "      <td>86960000.0</td>\n",
       "    </tr>\n",
       "    <tr>\n",
       "      <th>1.0</th>\n",
       "      <td>2020-08-05</td>\n",
       "      <td>Đường Kim Giang, Phường Kim Giang, Quận Thanh ...</td>\n",
       "      <td>Quận Thanh Xuân</td>\n",
       "      <td>Phường Kim Giang</td>\n",
       "      <td>Nhà mặt phố, mặt tiền</td>\n",
       "      <td>NaN</td>\n",
       "      <td>NaN</td>\n",
       "      <td>3.0</td>\n",
       "      <td>37.0</td>\n",
       "      <td>NaN</td>\n",
       "      <td>NaN</td>\n",
       "      <td>116220000.0</td>\n",
       "    </tr>\n",
       "    <tr>\n",
       "      <th>2.0</th>\n",
       "      <td>2020-08-05</td>\n",
       "      <td>phố minh khai, Phường Minh Khai, Quận Hai Bà T...</td>\n",
       "      <td>Quận Hai Bà Trưng</td>\n",
       "      <td>Phường Minh Khai</td>\n",
       "      <td>Nhà ngõ, hẻm</td>\n",
       "      <td>Đã có sổ</td>\n",
       "      <td>4.0</td>\n",
       "      <td>4.0</td>\n",
       "      <td>40.0</td>\n",
       "      <td>10.00</td>\n",
       "      <td>4.0</td>\n",
       "      <td>65000000.0</td>\n",
       "    </tr>\n",
       "    <tr>\n",
       "      <th>3.0</th>\n",
       "      <td>2020-08-05</td>\n",
       "      <td>Đường Võng Thị, Phường Thụy Khuê, Quận Tây Hồ,...</td>\n",
       "      <td>Quận Tây Hồ</td>\n",
       "      <td>Phường Thụy Khuê</td>\n",
       "      <td>Nhà ngõ, hẻm</td>\n",
       "      <td>Đã có sổ</td>\n",
       "      <td>NaN</td>\n",
       "      <td>6.0</td>\n",
       "      <td>51.0</td>\n",
       "      <td>12.75</td>\n",
       "      <td>4.0</td>\n",
       "      <td>100000000.0</td>\n",
       "    </tr>\n",
       "    <tr>\n",
       "      <th>4.0</th>\n",
       "      <td>2020-08-05</td>\n",
       "      <td>Đường Kim Giang, Phường Kim Giang, Quận Thanh ...</td>\n",
       "      <td>Quận Thanh Xuân</td>\n",
       "      <td>Phường Kim Giang</td>\n",
       "      <td>Nhà ngõ, hẻm</td>\n",
       "      <td>NaN</td>\n",
       "      <td>NaN</td>\n",
       "      <td>4.0</td>\n",
       "      <td>36.0</td>\n",
       "      <td>9.00</td>\n",
       "      <td>4.0</td>\n",
       "      <td>86110000.0</td>\n",
       "    </tr>\n",
       "  </tbody>\n",
       "</table>\n",
       "</div>"
      ],
      "text/plain": [
       "          Ngay                                            Dia_chi  \\\n",
       "0.0 2020-08-05  Đường Hoàng Quốc Việt, Phường Nghĩa Đô, Quận C...   \n",
       "1.0 2020-08-05  Đường Kim Giang, Phường Kim Giang, Quận Thanh ...   \n",
       "2.0 2020-08-05  phố minh khai, Phường Minh Khai, Quận Hai Bà T...   \n",
       "3.0 2020-08-05  Đường Võng Thị, Phường Thụy Khuê, Quận Tây Hồ,...   \n",
       "4.0 2020-08-05  Đường Kim Giang, Phường Kim Giang, Quận Thanh ...   \n",
       "\n",
       "                  Quan             Huyen               Loai_nha   Phap_ly  \\\n",
       "0.0      Quận Cầu Giấy   Phường Nghĩa Đô           Nhà ngõ, hẻm  Đã có sổ   \n",
       "1.0    Quận Thanh Xuân  Phường Kim Giang  Nhà mặt phố, mặt tiền       NaN   \n",
       "2.0  Quận Hai Bà Trưng  Phường Minh Khai           Nhà ngõ, hẻm  Đã có sổ   \n",
       "3.0        Quận Tây Hồ  Phường Thụy Khuê           Nhà ngõ, hẻm  Đã có sổ   \n",
       "4.0    Quận Thanh Xuân  Phường Kim Giang           Nhà ngõ, hẻm       NaN   \n",
       "\n",
       "     Tang   PN    DT    Dai  Rong    Gia_clean  \n",
       "0.0   4.0  5.0  46.0    NaN   NaN   86960000.0  \n",
       "1.0   NaN  3.0  37.0    NaN   NaN  116220000.0  \n",
       "2.0   4.0  4.0  40.0  10.00   4.0   65000000.0  \n",
       "3.0   NaN  6.0  51.0  12.75   4.0  100000000.0  \n",
       "4.0   NaN  4.0  36.0   9.00   4.0   86110000.0  "
      ]
     },
     "execution_count": 45,
     "metadata": {},
     "output_type": "execute_result"
    }
   ],
   "source": [
    "df.head()"
   ]
  },
  {
   "cell_type": "code",
   "execution_count": 46,
   "id": "bbb6c7d9",
   "metadata": {},
   "outputs": [
    {
     "data": {
      "text/html": [
       "<div>\n",
       "<style scoped>\n",
       "    .dataframe tbody tr th:only-of-type {\n",
       "        vertical-align: middle;\n",
       "    }\n",
       "\n",
       "    .dataframe tbody tr th {\n",
       "        vertical-align: top;\n",
       "    }\n",
       "\n",
       "    .dataframe thead th {\n",
       "        text-align: right;\n",
       "    }\n",
       "</style>\n",
       "<table border=\"1\" class=\"dataframe\">\n",
       "  <thead>\n",
       "    <tr style=\"text-align: right;\">\n",
       "      <th></th>\n",
       "      <th>Tang</th>\n",
       "      <th>PN</th>\n",
       "      <th>DT</th>\n",
       "      <th>Dai</th>\n",
       "      <th>Rong</th>\n",
       "      <th>Gia_clean</th>\n",
       "    </tr>\n",
       "  </thead>\n",
       "  <tbody>\n",
       "    <tr>\n",
       "      <th>count</th>\n",
       "      <td>36217.000000</td>\n",
       "      <td>81640.000000</td>\n",
       "      <td>81677.000000</td>\n",
       "      <td>19746.000000</td>\n",
       "      <td>35295.000000</td>\n",
       "      <td>8.166600e+04</td>\n",
       "    </tr>\n",
       "    <tr>\n",
       "      <th>mean</th>\n",
       "      <td>4.463263</td>\n",
       "      <td>3.882827</td>\n",
       "      <td>51.466928</td>\n",
       "      <td>90.088050</td>\n",
       "      <td>37.957069</td>\n",
       "      <td>1.131260e+08</td>\n",
       "    </tr>\n",
       "    <tr>\n",
       "      <th>std</th>\n",
       "      <td>1.575623</td>\n",
       "      <td>1.499703</td>\n",
       "      <td>473.022040</td>\n",
       "      <td>6482.231315</td>\n",
       "      <td>3108.011439</td>\n",
       "      <td>7.847903e+08</td>\n",
       "    </tr>\n",
       "    <tr>\n",
       "      <th>min</th>\n",
       "      <td>1.000000</td>\n",
       "      <td>1.000000</td>\n",
       "      <td>1.000000</td>\n",
       "      <td>1.000000</td>\n",
       "      <td>1.000000</td>\n",
       "      <td>1.000000e+06</td>\n",
       "    </tr>\n",
       "    <tr>\n",
       "      <th>25%</th>\n",
       "      <td>4.000000</td>\n",
       "      <td>3.000000</td>\n",
       "      <td>34.000000</td>\n",
       "      <td>8.000000</td>\n",
       "      <td>4.000000</td>\n",
       "      <td>7.333000e+07</td>\n",
       "    </tr>\n",
       "    <tr>\n",
       "      <th>50%</th>\n",
       "      <td>5.000000</td>\n",
       "      <td>4.000000</td>\n",
       "      <td>40.000000</td>\n",
       "      <td>10.000000</td>\n",
       "      <td>4.000000</td>\n",
       "      <td>9.000000e+07</td>\n",
       "    </tr>\n",
       "    <tr>\n",
       "      <th>75%</th>\n",
       "      <td>5.000000</td>\n",
       "      <td>4.000000</td>\n",
       "      <td>50.000000</td>\n",
       "      <td>12.000000</td>\n",
       "      <td>5.000000</td>\n",
       "      <td>1.111100e+08</td>\n",
       "    </tr>\n",
       "    <tr>\n",
       "      <th>max</th>\n",
       "      <td>73.000000</td>\n",
       "      <td>11.000000</td>\n",
       "      <td>111411.000000</td>\n",
       "      <td>900000.000000</td>\n",
       "      <td>423432.000000</td>\n",
       "      <td>1.240000e+11</td>\n",
       "    </tr>\n",
       "  </tbody>\n",
       "</table>\n",
       "</div>"
      ],
      "text/plain": [
       "               Tang            PN             DT            Dai  \\\n",
       "count  36217.000000  81640.000000   81677.000000   19746.000000   \n",
       "mean       4.463263      3.882827      51.466928      90.088050   \n",
       "std        1.575623      1.499703     473.022040    6482.231315   \n",
       "min        1.000000      1.000000       1.000000       1.000000   \n",
       "25%        4.000000      3.000000      34.000000       8.000000   \n",
       "50%        5.000000      4.000000      40.000000      10.000000   \n",
       "75%        5.000000      4.000000      50.000000      12.000000   \n",
       "max       73.000000     11.000000  111411.000000  900000.000000   \n",
       "\n",
       "                Rong     Gia_clean  \n",
       "count   35295.000000  8.166600e+04  \n",
       "mean       37.957069  1.131260e+08  \n",
       "std      3108.011439  7.847903e+08  \n",
       "min         1.000000  1.000000e+06  \n",
       "25%         4.000000  7.333000e+07  \n",
       "50%         4.000000  9.000000e+07  \n",
       "75%         5.000000  1.111100e+08  \n",
       "max    423432.000000  1.240000e+11  "
      ]
     },
     "execution_count": 46,
     "metadata": {},
     "output_type": "execute_result"
    }
   ],
   "source": [
    "df.describe()"
   ]
  },
  {
   "cell_type": "markdown",
   "id": "452476b7",
   "metadata": {},
   "source": [
    "Nhận thấy diện tích, số tầng, dài, rộng và giá có nhiều dữ liệu bất thường (quá cao) -> loại bỏ để thực hiện tính toán hợp lý hơn"
   ]
  },
  {
   "cell_type": "markdown",
   "id": "6ee00d79",
   "metadata": {},
   "source": [
    "1. Loại bỏ các căn nhà có chiều cao trên 20 tầng do dữ liệu về loại nhà ở chỉ có 4 loại: \n",
    "* Nhà ngõ, hẻm\n",
    "* Nhà mặt phố, mặt tiền\n",
    "* Nhà phố liền kề\n",
    "* Nhà biệt thự    "
   ]
  },
  {
   "cell_type": "code",
   "execution_count": 47,
   "id": "2c701e52",
   "metadata": {},
   "outputs": [],
   "source": [
    "df.drop(df[df['Tang']>20].index, inplace=True)"
   ]
  },
  {
   "cell_type": "markdown",
   "id": "7acc7dfc",
   "metadata": {},
   "source": [
    "2. Loại bỏ các căn nhà có diện tích trên 500m2 do điều này là bất hợp lý tại thị trường Hà Nội"
   ]
  },
  {
   "cell_type": "code",
   "execution_count": 48,
   "id": "8034bd08",
   "metadata": {},
   "outputs": [],
   "source": [
    "df.drop(df[df['DT']>500].index, inplace=True)"
   ]
  },
  {
   "cell_type": "code",
   "execution_count": 49,
   "id": "709a002a",
   "metadata": {},
   "outputs": [
    {
     "data": {
      "text/html": [
       "<div>\n",
       "<style scoped>\n",
       "    .dataframe tbody tr th:only-of-type {\n",
       "        vertical-align: middle;\n",
       "    }\n",
       "\n",
       "    .dataframe tbody tr th {\n",
       "        vertical-align: top;\n",
       "    }\n",
       "\n",
       "    .dataframe thead th {\n",
       "        text-align: right;\n",
       "    }\n",
       "</style>\n",
       "<table border=\"1\" class=\"dataframe\">\n",
       "  <thead>\n",
       "    <tr style=\"text-align: right;\">\n",
       "      <th></th>\n",
       "      <th>Tang</th>\n",
       "      <th>PN</th>\n",
       "      <th>DT</th>\n",
       "      <th>Dai</th>\n",
       "      <th>Rong</th>\n",
       "      <th>Gia_clean</th>\n",
       "    </tr>\n",
       "  </thead>\n",
       "  <tbody>\n",
       "    <tr>\n",
       "      <th>count</th>\n",
       "      <td>36166.000000</td>\n",
       "      <td>81526.000000</td>\n",
       "      <td>81561.000000</td>\n",
       "      <td>19697.000000</td>\n",
       "      <td>35233.000000</td>\n",
       "      <td>8.155000e+04</td>\n",
       "    </tr>\n",
       "    <tr>\n",
       "      <th>mean</th>\n",
       "      <td>4.431372</td>\n",
       "      <td>3.881400</td>\n",
       "      <td>46.739401</td>\n",
       "      <td>89.425692</td>\n",
       "      <td>37.857052</td>\n",
       "      <td>1.131090e+08</td>\n",
       "    </tr>\n",
       "    <tr>\n",
       "      <th>std</th>\n",
       "      <td>1.090374</td>\n",
       "      <td>1.495934</td>\n",
       "      <td>27.133257</td>\n",
       "      <td>6489.939180</td>\n",
       "      <td>3110.702202</td>\n",
       "      <td>7.853067e+08</td>\n",
       "    </tr>\n",
       "    <tr>\n",
       "      <th>min</th>\n",
       "      <td>1.000000</td>\n",
       "      <td>1.000000</td>\n",
       "      <td>1.000000</td>\n",
       "      <td>1.000000</td>\n",
       "      <td>1.000000</td>\n",
       "      <td>1.000000e+06</td>\n",
       "    </tr>\n",
       "    <tr>\n",
       "      <th>25%</th>\n",
       "      <td>4.000000</td>\n",
       "      <td>3.000000</td>\n",
       "      <td>34.000000</td>\n",
       "      <td>8.000000</td>\n",
       "      <td>4.000000</td>\n",
       "      <td>7.333000e+07</td>\n",
       "    </tr>\n",
       "    <tr>\n",
       "      <th>50%</th>\n",
       "      <td>5.000000</td>\n",
       "      <td>4.000000</td>\n",
       "      <td>40.000000</td>\n",
       "      <td>10.000000</td>\n",
       "      <td>4.000000</td>\n",
       "      <td>9.000000e+07</td>\n",
       "    </tr>\n",
       "    <tr>\n",
       "      <th>75%</th>\n",
       "      <td>5.000000</td>\n",
       "      <td>4.000000</td>\n",
       "      <td>50.000000</td>\n",
       "      <td>12.000000</td>\n",
       "      <td>5.000000</td>\n",
       "      <td>1.111100e+08</td>\n",
       "    </tr>\n",
       "    <tr>\n",
       "      <th>max</th>\n",
       "      <td>14.000000</td>\n",
       "      <td>11.000000</td>\n",
       "      <td>500.000000</td>\n",
       "      <td>900000.000000</td>\n",
       "      <td>423432.000000</td>\n",
       "      <td>1.240000e+11</td>\n",
       "    </tr>\n",
       "  </tbody>\n",
       "</table>\n",
       "</div>"
      ],
      "text/plain": [
       "               Tang            PN            DT            Dai           Rong  \\\n",
       "count  36166.000000  81526.000000  81561.000000   19697.000000   35233.000000   \n",
       "mean       4.431372      3.881400     46.739401      89.425692      37.857052   \n",
       "std        1.090374      1.495934     27.133257    6489.939180    3110.702202   \n",
       "min        1.000000      1.000000      1.000000       1.000000       1.000000   \n",
       "25%        4.000000      3.000000     34.000000       8.000000       4.000000   \n",
       "50%        5.000000      4.000000     40.000000      10.000000       4.000000   \n",
       "75%        5.000000      4.000000     50.000000      12.000000       5.000000   \n",
       "max       14.000000     11.000000    500.000000  900000.000000  423432.000000   \n",
       "\n",
       "          Gia_clean  \n",
       "count  8.155000e+04  \n",
       "mean   1.131090e+08  \n",
       "std    7.853067e+08  \n",
       "min    1.000000e+06  \n",
       "25%    7.333000e+07  \n",
       "50%    9.000000e+07  \n",
       "75%    1.111100e+08  \n",
       "max    1.240000e+11  "
      ]
     },
     "execution_count": 49,
     "metadata": {},
     "output_type": "execute_result"
    }
   ],
   "source": [
    "df.describe()"
   ]
  },
  {
   "cell_type": "markdown",
   "id": "219a069c",
   "metadata": {},
   "source": [
    "3. Chiều dài của căn nhà chỉ lấy các dữ liệu dưới 100m\n",
    "4. Chiều rộng của căn nhà chỉ lấy các dữ liệu dưới 30m"
   ]
  },
  {
   "cell_type": "code",
   "execution_count": 50,
   "id": "e89b253a",
   "metadata": {},
   "outputs": [],
   "source": [
    "df.drop(df[df['Dai']>=100].index, inplace=True)"
   ]
  },
  {
   "cell_type": "code",
   "execution_count": 51,
   "id": "295270b9",
   "metadata": {},
   "outputs": [],
   "source": [
    "df.drop(df[df['Rong']>=30].index, inplace=True)"
   ]
  },
  {
   "cell_type": "code",
   "execution_count": 52,
   "id": "62257ba9",
   "metadata": {},
   "outputs": [
    {
     "data": {
      "text/html": [
       "<div>\n",
       "<style scoped>\n",
       "    .dataframe tbody tr th:only-of-type {\n",
       "        vertical-align: middle;\n",
       "    }\n",
       "\n",
       "    .dataframe tbody tr th {\n",
       "        vertical-align: top;\n",
       "    }\n",
       "\n",
       "    .dataframe thead th {\n",
       "        text-align: right;\n",
       "    }\n",
       "</style>\n",
       "<table border=\"1\" class=\"dataframe\">\n",
       "  <thead>\n",
       "    <tr style=\"text-align: right;\">\n",
       "      <th></th>\n",
       "      <th>Tang</th>\n",
       "      <th>PN</th>\n",
       "      <th>DT</th>\n",
       "      <th>Dai</th>\n",
       "      <th>Rong</th>\n",
       "      <th>Gia_clean</th>\n",
       "    </tr>\n",
       "  </thead>\n",
       "  <tbody>\n",
       "    <tr>\n",
       "      <th>count</th>\n",
       "      <td>35624.000000</td>\n",
       "      <td>80372.000000</td>\n",
       "      <td>80405.000000</td>\n",
       "      <td>18913.000000</td>\n",
       "      <td>34078.000000</td>\n",
       "      <td>8.039400e+04</td>\n",
       "    </tr>\n",
       "    <tr>\n",
       "      <th>mean</th>\n",
       "      <td>4.434623</td>\n",
       "      <td>3.883106</td>\n",
       "      <td>46.722695</td>\n",
       "      <td>10.841514</td>\n",
       "      <td>4.539604</td>\n",
       "      <td>1.133847e+08</td>\n",
       "    </tr>\n",
       "    <tr>\n",
       "      <th>std</th>\n",
       "      <td>1.089769</td>\n",
       "      <td>1.495755</td>\n",
       "      <td>26.975064</td>\n",
       "      <td>5.284648</td>\n",
       "      <td>1.774542</td>\n",
       "      <td>7.908946e+08</td>\n",
       "    </tr>\n",
       "    <tr>\n",
       "      <th>min</th>\n",
       "      <td>1.000000</td>\n",
       "      <td>1.000000</td>\n",
       "      <td>1.000000</td>\n",
       "      <td>1.000000</td>\n",
       "      <td>1.000000</td>\n",
       "      <td>1.000000e+06</td>\n",
       "    </tr>\n",
       "    <tr>\n",
       "      <th>25%</th>\n",
       "      <td>4.000000</td>\n",
       "      <td>3.000000</td>\n",
       "      <td>34.000000</td>\n",
       "      <td>8.000000</td>\n",
       "      <td>3.800000</td>\n",
       "      <td>7.333000e+07</td>\n",
       "    </tr>\n",
       "    <tr>\n",
       "      <th>50%</th>\n",
       "      <td>5.000000</td>\n",
       "      <td>4.000000</td>\n",
       "      <td>40.000000</td>\n",
       "      <td>10.000000</td>\n",
       "      <td>4.000000</td>\n",
       "      <td>9.000000e+07</td>\n",
       "    </tr>\n",
       "    <tr>\n",
       "      <th>75%</th>\n",
       "      <td>5.000000</td>\n",
       "      <td>4.000000</td>\n",
       "      <td>50.000000</td>\n",
       "      <td>12.000000</td>\n",
       "      <td>5.000000</td>\n",
       "      <td>1.111100e+08</td>\n",
       "    </tr>\n",
       "    <tr>\n",
       "      <th>max</th>\n",
       "      <td>14.000000</td>\n",
       "      <td>11.000000</td>\n",
       "      <td>500.000000</td>\n",
       "      <td>92.000000</td>\n",
       "      <td>29.000000</td>\n",
       "      <td>1.240000e+11</td>\n",
       "    </tr>\n",
       "  </tbody>\n",
       "</table>\n",
       "</div>"
      ],
      "text/plain": [
       "               Tang            PN            DT           Dai          Rong  \\\n",
       "count  35624.000000  80372.000000  80405.000000  18913.000000  34078.000000   \n",
       "mean       4.434623      3.883106     46.722695     10.841514      4.539604   \n",
       "std        1.089769      1.495755     26.975064      5.284648      1.774542   \n",
       "min        1.000000      1.000000      1.000000      1.000000      1.000000   \n",
       "25%        4.000000      3.000000     34.000000      8.000000      3.800000   \n",
       "50%        5.000000      4.000000     40.000000     10.000000      4.000000   \n",
       "75%        5.000000      4.000000     50.000000     12.000000      5.000000   \n",
       "max       14.000000     11.000000    500.000000     92.000000     29.000000   \n",
       "\n",
       "          Gia_clean  \n",
       "count  8.039400e+04  \n",
       "mean   1.133847e+08  \n",
       "std    7.908946e+08  \n",
       "min    1.000000e+06  \n",
       "25%    7.333000e+07  \n",
       "50%    9.000000e+07  \n",
       "75%    1.111100e+08  \n",
       "max    1.240000e+11  "
      ]
     },
     "execution_count": 52,
     "metadata": {},
     "output_type": "execute_result"
    }
   ],
   "source": [
    "df.describe()"
   ]
  },
  {
   "cell_type": "markdown",
   "id": "9530b8d9",
   "metadata": {},
   "source": [
    "5. Giá căn nhà chỉ lấy dữ liệu dưới 2 tỷ/m2 do thị trường Hà Nội không có căn nhà nào có giá cao hơn"
   ]
  },
  {
   "cell_type": "code",
   "execution_count": 54,
   "id": "d366193b",
   "metadata": {},
   "outputs": [],
   "source": [
    "df.drop(df[df['Gia_clean']>=2*10**9].index, inplace=True)"
   ]
  },
  {
   "cell_type": "code",
   "execution_count": 55,
   "id": "fc0b6162",
   "metadata": {},
   "outputs": [
    {
     "data": {
      "text/html": [
       "<div>\n",
       "<style scoped>\n",
       "    .dataframe tbody tr th:only-of-type {\n",
       "        vertical-align: middle;\n",
       "    }\n",
       "\n",
       "    .dataframe tbody tr th {\n",
       "        vertical-align: top;\n",
       "    }\n",
       "\n",
       "    .dataframe thead th {\n",
       "        text-align: right;\n",
       "    }\n",
       "</style>\n",
       "<table border=\"1\" class=\"dataframe\">\n",
       "  <thead>\n",
       "    <tr style=\"text-align: right;\">\n",
       "      <th></th>\n",
       "      <th>Tang</th>\n",
       "      <th>PN</th>\n",
       "      <th>DT</th>\n",
       "      <th>Dai</th>\n",
       "      <th>Rong</th>\n",
       "      <th>Gia_clean</th>\n",
       "    </tr>\n",
       "  </thead>\n",
       "  <tbody>\n",
       "    <tr>\n",
       "      <th>count</th>\n",
       "      <td>35608.000000</td>\n",
       "      <td>80333.000000</td>\n",
       "      <td>80366.000000</td>\n",
       "      <td>18902.000000</td>\n",
       "      <td>34057.000000</td>\n",
       "      <td>8.035500e+04</td>\n",
       "    </tr>\n",
       "    <tr>\n",
       "      <th>mean</th>\n",
       "      <td>4.434565</td>\n",
       "      <td>3.882825</td>\n",
       "      <td>46.724091</td>\n",
       "      <td>10.842454</td>\n",
       "      <td>4.539707</td>\n",
       "      <td>1.043126e+08</td>\n",
       "    </tr>\n",
       "    <tr>\n",
       "      <th>std</th>\n",
       "      <td>1.089676</td>\n",
       "      <td>1.495366</td>\n",
       "      <td>26.975707</td>\n",
       "      <td>5.285108</td>\n",
       "      <td>1.774384</td>\n",
       "      <td>7.546638e+07</td>\n",
       "    </tr>\n",
       "    <tr>\n",
       "      <th>min</th>\n",
       "      <td>1.000000</td>\n",
       "      <td>1.000000</td>\n",
       "      <td>1.000000</td>\n",
       "      <td>1.000000</td>\n",
       "      <td>1.000000</td>\n",
       "      <td>1.000000e+06</td>\n",
       "    </tr>\n",
       "    <tr>\n",
       "      <th>25%</th>\n",
       "      <td>4.000000</td>\n",
       "      <td>3.000000</td>\n",
       "      <td>34.000000</td>\n",
       "      <td>8.000000</td>\n",
       "      <td>3.800000</td>\n",
       "      <td>7.333000e+07</td>\n",
       "    </tr>\n",
       "    <tr>\n",
       "      <th>50%</th>\n",
       "      <td>5.000000</td>\n",
       "      <td>4.000000</td>\n",
       "      <td>40.000000</td>\n",
       "      <td>10.000000</td>\n",
       "      <td>4.000000</td>\n",
       "      <td>9.000000e+07</td>\n",
       "    </tr>\n",
       "    <tr>\n",
       "      <th>75%</th>\n",
       "      <td>5.000000</td>\n",
       "      <td>4.000000</td>\n",
       "      <td>50.000000</td>\n",
       "      <td>12.000000</td>\n",
       "      <td>5.000000</td>\n",
       "      <td>1.111100e+08</td>\n",
       "    </tr>\n",
       "    <tr>\n",
       "      <th>max</th>\n",
       "      <td>14.000000</td>\n",
       "      <td>11.000000</td>\n",
       "      <td>500.000000</td>\n",
       "      <td>92.000000</td>\n",
       "      <td>29.000000</td>\n",
       "      <td>1.960000e+09</td>\n",
       "    </tr>\n",
       "  </tbody>\n",
       "</table>\n",
       "</div>"
      ],
      "text/plain": [
       "               Tang            PN            DT           Dai          Rong  \\\n",
       "count  35608.000000  80333.000000  80366.000000  18902.000000  34057.000000   \n",
       "mean       4.434565      3.882825     46.724091     10.842454      4.539707   \n",
       "std        1.089676      1.495366     26.975707      5.285108      1.774384   \n",
       "min        1.000000      1.000000      1.000000      1.000000      1.000000   \n",
       "25%        4.000000      3.000000     34.000000      8.000000      3.800000   \n",
       "50%        5.000000      4.000000     40.000000     10.000000      4.000000   \n",
       "75%        5.000000      4.000000     50.000000     12.000000      5.000000   \n",
       "max       14.000000     11.000000    500.000000     92.000000     29.000000   \n",
       "\n",
       "          Gia_clean  \n",
       "count  8.035500e+04  \n",
       "mean   1.043126e+08  \n",
       "std    7.546638e+07  \n",
       "min    1.000000e+06  \n",
       "25%    7.333000e+07  \n",
       "50%    9.000000e+07  \n",
       "75%    1.111100e+08  \n",
       "max    1.960000e+09  "
      ]
     },
     "execution_count": 55,
     "metadata": {},
     "output_type": "execute_result"
    }
   ],
   "source": [
    "df.describe()"
   ]
  },
  {
   "cell_type": "markdown",
   "id": "87d5d91e",
   "metadata": {},
   "source": [
    "6. Thay các giá trị NaN tại cột Pháp lý thành 'Không có sổ'"
   ]
  },
  {
   "cell_type": "code",
   "execution_count": 56,
   "id": "40f40af1",
   "metadata": {},
   "outputs": [],
   "source": [
    "df['Phap_ly'] = df['Phap_ly'].fillna('Không có sổ')"
   ]
  },
  {
   "cell_type": "markdown",
   "id": "5b8f3d19",
   "metadata": {},
   "source": [
    "# Xem xét correlation giữa các yếu tố của 1 ngôi nhà"
   ]
  },
  {
   "cell_type": "code",
   "execution_count": 57,
   "id": "824968c4",
   "metadata": {},
   "outputs": [],
   "source": [
    "df_corr = df"
   ]
  },
  {
   "cell_type": "markdown",
   "id": "1a7119b3",
   "metadata": {},
   "source": [
    "Chuyển các dữ liệu chữ thành dữ liệu số để tính toán correlation"
   ]
  },
  {
   "cell_type": "code",
   "execution_count": 58,
   "id": "b4c5ff1a",
   "metadata": {},
   "outputs": [],
   "source": [
    "df_corr['Loai_Nha_Number'] = df_corr['Loai_nha'].replace(['Nhà ngõ, hẻm', 'Nhà mặt phố, mặt tiền', 'Nhà phố liền kề', 'Nhà biệt thự'], \n",
    "                                                         [1,2,3,4])\n",
    "df_corr['Phap_ly_number'] = df_corr['Phap_ly'].replace(['Không có sổ', 'Đang chờ sổ', 'Giấy tờ khác', 'Đã có sổ'],\n",
    "                                                      [1,2,3,4])"
   ]
  },
  {
   "cell_type": "code",
   "execution_count": 59,
   "id": "5deddf31",
   "metadata": {},
   "outputs": [],
   "source": [
    "drop = ['Ngay', 'Dia_chi', 'Quan', 'Huyen', 'Loai_nha', 'Phap_ly']\n",
    "df_corr_number = df_corr.drop(drop, axis=1)"
   ]
  },
  {
   "cell_type": "code",
   "execution_count": 60,
   "id": "221fcb80",
   "metadata": {},
   "outputs": [
    {
     "data": {
      "text/html": [
       "<div>\n",
       "<style scoped>\n",
       "    .dataframe tbody tr th:only-of-type {\n",
       "        vertical-align: middle;\n",
       "    }\n",
       "\n",
       "    .dataframe tbody tr th {\n",
       "        vertical-align: top;\n",
       "    }\n",
       "\n",
       "    .dataframe thead th {\n",
       "        text-align: right;\n",
       "    }\n",
       "</style>\n",
       "<table border=\"1\" class=\"dataframe\">\n",
       "  <thead>\n",
       "    <tr style=\"text-align: right;\">\n",
       "      <th></th>\n",
       "      <th>Tang</th>\n",
       "      <th>PN</th>\n",
       "      <th>DT</th>\n",
       "      <th>Dai</th>\n",
       "      <th>Rong</th>\n",
       "      <th>Gia_clean</th>\n",
       "      <th>Loai_Nha_Number</th>\n",
       "      <th>Phap_ly_number</th>\n",
       "    </tr>\n",
       "  </thead>\n",
       "  <tbody>\n",
       "    <tr>\n",
       "      <th>0.0</th>\n",
       "      <td>4.0</td>\n",
       "      <td>5.0</td>\n",
       "      <td>46.0</td>\n",
       "      <td>NaN</td>\n",
       "      <td>NaN</td>\n",
       "      <td>86960000.0</td>\n",
       "      <td>1.0</td>\n",
       "      <td>4</td>\n",
       "    </tr>\n",
       "    <tr>\n",
       "      <th>1.0</th>\n",
       "      <td>NaN</td>\n",
       "      <td>3.0</td>\n",
       "      <td>37.0</td>\n",
       "      <td>NaN</td>\n",
       "      <td>NaN</td>\n",
       "      <td>116220000.0</td>\n",
       "      <td>2.0</td>\n",
       "      <td>1</td>\n",
       "    </tr>\n",
       "    <tr>\n",
       "      <th>2.0</th>\n",
       "      <td>4.0</td>\n",
       "      <td>4.0</td>\n",
       "      <td>40.0</td>\n",
       "      <td>10.00</td>\n",
       "      <td>4.0</td>\n",
       "      <td>65000000.0</td>\n",
       "      <td>1.0</td>\n",
       "      <td>4</td>\n",
       "    </tr>\n",
       "    <tr>\n",
       "      <th>3.0</th>\n",
       "      <td>NaN</td>\n",
       "      <td>6.0</td>\n",
       "      <td>51.0</td>\n",
       "      <td>12.75</td>\n",
       "      <td>4.0</td>\n",
       "      <td>100000000.0</td>\n",
       "      <td>1.0</td>\n",
       "      <td>4</td>\n",
       "    </tr>\n",
       "    <tr>\n",
       "      <th>4.0</th>\n",
       "      <td>NaN</td>\n",
       "      <td>4.0</td>\n",
       "      <td>36.0</td>\n",
       "      <td>9.00</td>\n",
       "      <td>4.0</td>\n",
       "      <td>86110000.0</td>\n",
       "      <td>1.0</td>\n",
       "      <td>1</td>\n",
       "    </tr>\n",
       "    <tr>\n",
       "      <th>...</th>\n",
       "      <td>...</td>\n",
       "      <td>...</td>\n",
       "      <td>...</td>\n",
       "      <td>...</td>\n",
       "      <td>...</td>\n",
       "      <td>...</td>\n",
       "      <td>...</td>\n",
       "      <td>...</td>\n",
       "    </tr>\n",
       "    <tr>\n",
       "      <th>82492.0</th>\n",
       "      <td>NaN</td>\n",
       "      <td>3.0</td>\n",
       "      <td>50.0</td>\n",
       "      <td>NaN</td>\n",
       "      <td>NaN</td>\n",
       "      <td>292000000.0</td>\n",
       "      <td>2.0</td>\n",
       "      <td>1</td>\n",
       "    </tr>\n",
       "    <tr>\n",
       "      <th>82493.0</th>\n",
       "      <td>NaN</td>\n",
       "      <td>4.0</td>\n",
       "      <td>41.0</td>\n",
       "      <td>NaN</td>\n",
       "      <td>NaN</td>\n",
       "      <td>341460000.0</td>\n",
       "      <td>2.0</td>\n",
       "      <td>4</td>\n",
       "    </tr>\n",
       "    <tr>\n",
       "      <th>82494.0</th>\n",
       "      <td>NaN</td>\n",
       "      <td>4.0</td>\n",
       "      <td>60.0</td>\n",
       "      <td>NaN</td>\n",
       "      <td>NaN</td>\n",
       "      <td>101670000.0</td>\n",
       "      <td>1.0</td>\n",
       "      <td>4</td>\n",
       "    </tr>\n",
       "    <tr>\n",
       "      <th>82495.0</th>\n",
       "      <td>NaN</td>\n",
       "      <td>4.0</td>\n",
       "      <td>45.0</td>\n",
       "      <td>NaN</td>\n",
       "      <td>NaN</td>\n",
       "      <td>102220000.0</td>\n",
       "      <td>3.0</td>\n",
       "      <td>1</td>\n",
       "    </tr>\n",
       "    <tr>\n",
       "      <th>NaN</th>\n",
       "      <td>NaN</td>\n",
       "      <td>NaN</td>\n",
       "      <td>NaN</td>\n",
       "      <td>NaN</td>\n",
       "      <td>NaN</td>\n",
       "      <td>NaN</td>\n",
       "      <td>NaN</td>\n",
       "      <td>1</td>\n",
       "    </tr>\n",
       "  </tbody>\n",
       "</table>\n",
       "<p>80368 rows × 8 columns</p>\n",
       "</div>"
      ],
      "text/plain": [
       "         Tang   PN    DT    Dai  Rong    Gia_clean  Loai_Nha_Number  \\\n",
       "0.0       4.0  5.0  46.0    NaN   NaN   86960000.0              1.0   \n",
       "1.0       NaN  3.0  37.0    NaN   NaN  116220000.0              2.0   \n",
       "2.0       4.0  4.0  40.0  10.00   4.0   65000000.0              1.0   \n",
       "3.0       NaN  6.0  51.0  12.75   4.0  100000000.0              1.0   \n",
       "4.0       NaN  4.0  36.0   9.00   4.0   86110000.0              1.0   \n",
       "...       ...  ...   ...    ...   ...          ...              ...   \n",
       "82492.0   NaN  3.0  50.0    NaN   NaN  292000000.0              2.0   \n",
       "82493.0   NaN  4.0  41.0    NaN   NaN  341460000.0              2.0   \n",
       "82494.0   NaN  4.0  60.0    NaN   NaN  101670000.0              1.0   \n",
       "82495.0   NaN  4.0  45.0    NaN   NaN  102220000.0              3.0   \n",
       "NaN       NaN  NaN   NaN    NaN   NaN          NaN              NaN   \n",
       "\n",
       "         Phap_ly_number  \n",
       "0.0                   4  \n",
       "1.0                   1  \n",
       "2.0                   4  \n",
       "3.0                   4  \n",
       "4.0                   1  \n",
       "...                 ...  \n",
       "82492.0               1  \n",
       "82493.0               4  \n",
       "82494.0               4  \n",
       "82495.0               1  \n",
       "NaN                   1  \n",
       "\n",
       "[80368 rows x 8 columns]"
      ]
     },
     "execution_count": 60,
     "metadata": {},
     "output_type": "execute_result"
    }
   ],
   "source": [
    "df_corr_number"
   ]
  },
  {
   "cell_type": "code",
   "execution_count": 63,
   "id": "ee42f67a",
   "metadata": {},
   "outputs": [
    {
     "data": {
      "text/plain": [
       "Text(86.09375, 0.5, \"Houses' features\")"
      ]
     },
     "execution_count": 63,
     "metadata": {},
     "output_type": "execute_result"
    },
    {
     "data": {
      "image/png": "[encoded data removed]",
      "text/plain": [
       "<Figure size 864x432 with 2 Axes>"
      ]
     },
     "metadata": {
      "needs_background": "light"
     },
     "output_type": "display_data"
    }
   ],
   "source": [
    "plt.figure(figsize=(12,6))\n",
    "correlation_matrix = df_corr_number.corr()\n",
    "sns.heatmap(correlation_matrix, annot=True)\n",
    "plt.title('Correlation matrix of houses features')\n",
    "plt.xlabel(\"Houses' features\")\n",
    "plt.ylabel(\"Houses' features\")"
   ]
  },
  {
   "cell_type": "markdown",
   "id": "986a18a5",
   "metadata": {},
   "source": [
    "# House price by type"
   ]
  },
  {
   "cell_type": "code",
   "execution_count": 64,
   "id": "4d48adf3",
   "metadata": {},
   "outputs": [],
   "source": [
    "price_by_type = df[['Loai_nha','Gia_clean']].groupby(['Loai_nha']).mean()"
   ]
  },
  {
   "cell_type": "code",
   "execution_count": 66,
   "id": "5b00fcac",
   "metadata": {},
   "outputs": [
    {
     "data": {
      "text/plain": [
       "Text(0, 0.5, 'Average Price per sqm')"
      ]
     },
     "execution_count": 66,
     "metadata": {},
     "output_type": "execute_result"
    },
    {
     "data": {
      "image/png": "[encoded data removed]",
      "text/plain": [
       "<Figure size 864x432 with 1 Axes>"
      ]
     },
     "metadata": {
      "needs_background": "light"
     },
     "output_type": "display_data"
    }
   ],
   "source": [
    "plt.figure(figsize=(12,6))\n",
    "plt.bar(price_by_type.index, price_by_type['Gia_clean'], color=\"green\")\n",
    "plt.title(\"Price by House type\")\n",
    "plt.xlabel(\"House Type\")\n",
    "plt.ylabel(\"Average Price per sqm\")"
   ]
  },
  {
   "cell_type": "markdown",
   "id": "4139c280",
   "metadata": {},
   "source": [
    "# House price by location (district)"
   ]
  },
  {
   "cell_type": "code",
   "execution_count": 69,
   "id": "6149d36e",
   "metadata": {},
   "outputs": [
    {
     "data": {
      "text/plain": [
       "([0,\n",
       "  1,\n",
       "  2,\n",
       "  3,\n",
       "  4,\n",
       "  5,\n",
       "  6,\n",
       "  7,\n",
       "  8,\n",
       "  9,\n",
       "  10,\n",
       "  11,\n",
       "  12,\n",
       "  13,\n",
       "  14,\n",
       "  15,\n",
       "  16,\n",
       "  17,\n",
       "  18,\n",
       "  19,\n",
       "  20,\n",
       "  21,\n",
       "  22,\n",
       "  23,\n",
       "  24,\n",
       "  25,\n",
       "  26,\n",
       "  27,\n",
       "  28],\n",
       " [Text(0, 0, ''),\n",
       "  Text(0, 0, ''),\n",
       "  Text(0, 0, ''),\n",
       "  Text(0, 0, ''),\n",
       "  Text(0, 0, ''),\n",
       "  Text(0, 0, ''),\n",
       "  Text(0, 0, ''),\n",
       "  Text(0, 0, ''),\n",
       "  Text(0, 0, ''),\n",
       "  Text(0, 0, ''),\n",
       "  Text(0, 0, ''),\n",
       "  Text(0, 0, ''),\n",
       "  Text(0, 0, ''),\n",
       "  Text(0, 0, ''),\n",
       "  Text(0, 0, ''),\n",
       "  Text(0, 0, ''),\n",
       "  Text(0, 0, ''),\n",
       "  Text(0, 0, ''),\n",
       "  Text(0, 0, ''),\n",
       "  Text(0, 0, ''),\n",
       "  Text(0, 0, ''),\n",
       "  Text(0, 0, ''),\n",
       "  Text(0, 0, ''),\n",
       "  Text(0, 0, ''),\n",
       "  Text(0, 0, ''),\n",
       "  Text(0, 0, ''),\n",
       "  Text(0, 0, ''),\n",
       "  Text(0, 0, ''),\n",
       "  Text(0, 0, '')])"
      ]
     },
     "execution_count": 69,
     "metadata": {},
     "output_type": "execute_result"
    },
    {
     "data": {
      "image/png": "[encoded data removed]",
      "text/plain": [
       "<Figure size 1080x432 with 1 Axes>"
      ]
     },
     "metadata": {
      "needs_background": "light"
     },
     "output_type": "display_data"
    }
   ],
   "source": [
    "price_by_location = df[['Quan','Gia_clean']].groupby(['Quan']).mean()\n",
    "\n",
    "plt.figure(figsize=(15,6))\n",
    "plt.bar(price_by_location.index, price_by_location['Gia_clean'], color=\"blue\")\n",
    "plt.title(\"Price by House District Location\")\n",
    "plt.xlabel(\"House District Location\")\n",
    "plt.ylabel(\"Average Price per sqm\")\n",
    "plt.xticks(rotation = 90)"
   ]
  },
  {
   "cell_type": "code",
   "execution_count": 70,
   "id": "740270ab",
   "metadata": {},
   "outputs": [
    {
     "data": {
      "text/plain": [
       "<matplotlib.collections.PathCollection at 0x21405b14e80>"
      ]
     },
     "execution_count": 70,
     "metadata": {},
     "output_type": "execute_result"
    },
    {
     "data": {
      "image/png": "[encoded data removed]",
      "text/plain": [
       "<Figure size 1080x432 with 1 Axes>"
      ]
     },
     "metadata": {
      "needs_background": "light"
     },
     "output_type": "display_data"
    }
   ],
   "source": [
    "plt.figure(figsize=(15,6))\n",
    "plt.scatter(df_corr_number['DT'], df_corr_number['Gia_clean'])"
   ]
  },
  {
   "cell_type": "code",
   "execution_count": 72,
   "id": "61508a93",
   "metadata": {},
   "outputs": [],
   "source": [
    "df.to_excel('HN_housing_data.xlsx','Sheet1')"
   ]
  },
  {
   "cell_type": "markdown",
   "id": "c0f5d7ac",
   "metadata": {},
   "source": [
    "Lọc các dữ liệu nhà với diện tích lớn hơn 10m2 nhằm loại bỏ các dữ liệu lỗi với nhà dưới 10m2"
   ]
  },
  {
   "cell_type": "code",
   "execution_count": 73,
   "id": "5ec3cdda",
   "metadata": {},
   "outputs": [],
   "source": [
    "df.drop(df[df['DT']<=10].index, inplace=True)"
   ]
  },
  {
   "cell_type": "code",
   "execution_count": 74,
   "id": "3ab55588",
   "metadata": {},
   "outputs": [],
   "source": [
    "df_corr_number.drop(df_corr_number[df_corr_number['DT']<=10].index, inplace=True)"
   ]
  },
  {
   "cell_type": "code",
   "execution_count": 75,
   "id": "bea5ee14",
   "metadata": {},
   "outputs": [
    {
     "data": {
      "text/plain": [
       "<matplotlib.collections.PathCollection at 0x21407161bb0>"
      ]
     },
     "execution_count": 75,
     "metadata": {},
     "output_type": "execute_result"
    },
    {
     "data": {
      "image/png": "[encoded data removed]",
      "text/plain": [
       "<Figure size 1080x432 with 1 Axes>"
      ]
     },
     "metadata": {
      "needs_background": "light"
     },
     "output_type": "display_data"
    }
   ],
   "source": [
    "plt.figure(figsize=(15,6))\n",
    "plt.scatter(df_corr_number['DT'], df_corr_number['Gia_clean'])"
   ]
  },
  {
   "cell_type": "code",
   "execution_count": 78,
   "id": "f973214f",
   "metadata": {},
   "outputs": [
    {
     "data": {
      "text/plain": [
       "(array([2.8900e+02, 1.2320e+03, 2.7550e+03, 7.1480e+03, 1.5428e+04,\n",
       "        1.4715e+04, 1.0482e+04, 8.8840e+03, 4.7880e+03, 1.7490e+03,\n",
       "        3.3740e+03, 1.8820e+03, 1.7140e+03, 9.2500e+02, 9.2200e+02,\n",
       "        4.7700e+02, 5.1300e+02, 3.1100e+02, 4.7800e+02, 2.0700e+02,\n",
       "        1.9800e+02, 9.9000e+01, 2.1900e+02, 9.0000e+01, 1.2300e+02,\n",
       "        8.7000e+01, 9.5000e+01, 4.6000e+01, 1.2700e+02, 5.1000e+01,\n",
       "        1.0300e+02, 4.1000e+01, 6.3000e+01, 4.1000e+01, 5.5000e+01,\n",
       "        2.4000e+01, 3.9000e+01, 2.8000e+01, 1.0600e+02, 1.7000e+01,\n",
       "        2.6000e+01, 1.8000e+01, 2.4000e+01, 1.6000e+01, 2.2000e+01,\n",
       "        1.1000e+01, 1.5000e+01, 7.0000e+00, 2.4000e+01, 4.0000e+00,\n",
       "        9.0000e+00, 3.0000e+00, 9.0000e+00, 6.0000e+00, 1.0000e+00,\n",
       "        5.0000e+00, 9.0000e+00, 3.0000e+00, 2.0000e+00, 1.9000e+01,\n",
       "        4.0000e+00, 4.0000e+00, 3.0000e+00, 7.0000e+00, 5.0000e+00,\n",
       "        7.0000e+00, 1.0000e+00, 4.0000e+00, 3.0000e+00, 7.0000e+00,\n",
       "        2.0000e+00, 7.0000e+00, 2.0000e+00, 1.0000e+00, 2.0000e+00,\n",
       "        1.0000e+00, 1.0000e+00, 1.0000e+00, 2.0000e+00, 1.0000e+01,\n",
       "        1.0000e+00, 1.0000e+00, 3.0000e+00, 2.0000e+00, 2.0000e+00,\n",
       "        1.0000e+00, 1.0000e+00, 2.0000e+00, 4.0000e+00, 6.0000e+00,\n",
       "        4.0000e+00, 2.0000e+00, 3.0000e+00, 2.0000e+00, 1.0000e+00,\n",
       "        2.0000e+00, 0.0000e+00, 2.0000e+00, 1.0000e+00, 3.0000e+00]),\n",
       " array([ 11.  ,  15.89,  20.78,  25.67,  30.56,  35.45,  40.34,  45.23,\n",
       "         50.12,  55.01,  59.9 ,  64.79,  69.68,  74.57,  79.46,  84.35,\n",
       "         89.24,  94.13,  99.02, 103.91, 108.8 , 113.69, 118.58, 123.47,\n",
       "        128.36, 133.25, 138.14, 143.03, 147.92, 152.81, 157.7 , 162.59,\n",
       "        167.48, 172.37, 177.26, 182.15, 187.04, 191.93, 196.82, 201.71,\n",
       "        206.6 , 211.49, 216.38, 221.27, 226.16, 231.05, 235.94, 240.83,\n",
       "        245.72, 250.61, 255.5 , 260.39, 265.28, 270.17, 275.06, 279.95,\n",
       "        284.84, 289.73, 294.62, 299.51, 304.4 , 309.29, 314.18, 319.07,\n",
       "        323.96, 328.85, 333.74, 338.63, 343.52, 348.41, 353.3 , 358.19,\n",
       "        363.08, 367.97, 372.86, 377.75, 382.64, 387.53, 392.42, 397.31,\n",
       "        402.2 , 407.09, 411.98, 416.87, 421.76, 426.65, 431.54, 436.43,\n",
       "        441.32, 446.21, 451.1 , 455.99, 460.88, 465.77, 470.66, 475.55,\n",
       "        480.44, 485.33, 490.22, 495.11, 500.  ]),\n",
       " <BarContainer object of 100 artists>)"
      ]
     },
     "execution_count": 78,
     "metadata": {},
     "output_type": "execute_result"
    },
    {
     "data": {
      "image/png": "[encoded data removed]",
      "text/plain": [
       "<Figure size 1080x432 with 1 Axes>"
      ]
     },
     "metadata": {
      "needs_background": "light"
     },
     "output_type": "display_data"
    }
   ],
   "source": [
    "plt.figure(figsize=(15,6))\n",
    "plt.hist(df_corr_number['DT'], bins=100)"
   ]
  },
  {
   "cell_type": "code",
   "execution_count": 79,
   "id": "ef8ad4ee",
   "metadata": {},
   "outputs": [
    {
     "data": {
      "text/plain": [
       "Text(86.09375, 0.5, \"Houses' features\")"
      ]
     },
     "execution_count": 79,
     "metadata": {},
     "output_type": "execute_result"
    },
    {
     "data": {
      "image/png": "[encoded data removed]",
      "text/plain": [
       "<Figure size 864x432 with 2 Axes>"
      ]
     },
     "metadata": {
      "needs_background": "light"
     },
     "output_type": "display_data"
    }
   ],
   "source": [
    "plt.figure(figsize=(12,6))\n",
    "correlation_matrix = df_corr_number.corr()\n",
    "sns.heatmap(correlation_matrix, annot=True)\n",
    "plt.title('Correlation matrix of houses features')\n",
    "plt.xlabel(\"Houses' features\")\n",
    "plt.ylabel(\"Houses' features\")"
   ]
  },
  {
   "cell_type": "code",
   "execution_count": null,
   "id": "d57f1f50",
   "metadata": {},
   "outputs": [],
   "source": []
  }
 ],
 "metadata": {
  "kernelspec": {
   "display_name": "Python 3 (ipykernel)",
   "language": "python",
   "name": "python3"
  },
  "language_info": {
   "codemirror_mode": {
    "name": "ipython",
    "version": 3
   },
   "file_extension": ".py",
   "mimetype": "text/x-python",
   "name": "python",
   "nbconvert_exporter": "python",
   "pygments_lexer": "ipython3",
   "version": "3.9.7"
  }
 },
 "nbformat": 4,
 "nbformat_minor": 5
}
